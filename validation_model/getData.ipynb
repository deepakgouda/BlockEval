{
 "cells": [
  {
   "cell_type": "code",
   "execution_count": 1,
   "metadata": {
    "tags": []
   },
   "outputs": [
    {
     "output_type": "stream",
     "name": "stderr",
     "text": "Using TensorFlow backend.\n"
    }
   ],
   "source": [
    "import pandas as pd\n",
    "import numpy as np\n",
    "from keras.models import Sequential\n",
    "from keras.layers import Dense, Dropout, LeakyReLU, BatchNormalization\n",
    "from keras.callbacks import EarlyStopping\n",
    "\n",
    "from sklearn.model_selection import train_test_split"
   ]
  },
  {
   "cell_type": "code",
   "execution_count": 2,
   "metadata": {},
   "outputs": [],
   "source": [
    "data = pd.read_csv('./BSACTData.csv', index_col='Timestamp')\n",
    "data = data.dropna()"
   ]
  },
  {
   "cell_type": "code",
   "execution_count": 3,
   "metadata": {},
   "outputs": [],
   "source": [
    "data['block-gen-mu'] = 560\n",
    "data['tx-gen-time'] = 26.66"
   ]
  },
  {
   "cell_type": "code",
   "execution_count": 4,
   "metadata": {},
   "outputs": [
    {
     "output_type": "execute_result",
     "data": {
      "text/plain": "                  mempool-size  transactions-per-second  \\\nTimestamp                                                 \n15-06-2016 00:00    21228973.0                 2.433333   \n16-06-2016 00:00    25873598.0                 1.550000   \n17-06-2016 00:00    26867610.0                 2.350000   \n18-06-2016 00:00    25255652.5                 2.150000   \n19-06-2016 00:00     7502073.5                 2.250000   \n\n                  median-confirmation-time  transaction-fees  \\\nTimestamp                                                      \n15-06-2016 00:00                     14.13         83.386147   \n16-06-2016 00:00                      9.66         82.296660   \n17-06-2016 00:00                      9.30         78.902095   \n18-06-2016 00:00                      7.75         70.578306   \n19-06-2016 00:00                      6.00         63.143491   \n\n                  n-transactions-per-block  block-gen-mu  tx-gen-time  \nTimestamp                                                              \n15-06-2016 00:00               1705.276316           560        26.66  \n16-06-2016 00:00               1797.785235           560        26.66  \n17-06-2016 00:00               1703.033557           560        26.66  \n18-06-2016 00:00               1489.348101           560        26.66  \n19-06-2016 00:00               1233.322034           560        26.66  ",
      "text/html": "<div>\n<style scoped>\n    .dataframe tbody tr th:only-of-type {\n        vertical-align: middle;\n    }\n\n    .dataframe tbody tr th {\n        vertical-align: top;\n    }\n\n    .dataframe thead th {\n        text-align: right;\n    }\n</style>\n<table border=\"1\" class=\"dataframe\">\n  <thead>\n    <tr style=\"text-align: right;\">\n      <th></th>\n      <th>mempool-size</th>\n      <th>transactions-per-second</th>\n      <th>median-confirmation-time</th>\n      <th>transaction-fees</th>\n      <th>n-transactions-per-block</th>\n      <th>block-gen-mu</th>\n      <th>tx-gen-time</th>\n    </tr>\n    <tr>\n      <th>Timestamp</th>\n      <th></th>\n      <th></th>\n      <th></th>\n      <th></th>\n      <th></th>\n      <th></th>\n      <th></th>\n    </tr>\n  </thead>\n  <tbody>\n    <tr>\n      <th>15-06-2016 00:00</th>\n      <td>21228973.0</td>\n      <td>2.433333</td>\n      <td>14.13</td>\n      <td>83.386147</td>\n      <td>1705.276316</td>\n      <td>560</td>\n      <td>26.66</td>\n    </tr>\n    <tr>\n      <th>16-06-2016 00:00</th>\n      <td>25873598.0</td>\n      <td>1.550000</td>\n      <td>9.66</td>\n      <td>82.296660</td>\n      <td>1797.785235</td>\n      <td>560</td>\n      <td>26.66</td>\n    </tr>\n    <tr>\n      <th>17-06-2016 00:00</th>\n      <td>26867610.0</td>\n      <td>2.350000</td>\n      <td>9.30</td>\n      <td>78.902095</td>\n      <td>1703.033557</td>\n      <td>560</td>\n      <td>26.66</td>\n    </tr>\n    <tr>\n      <th>18-06-2016 00:00</th>\n      <td>25255652.5</td>\n      <td>2.150000</td>\n      <td>7.75</td>\n      <td>70.578306</td>\n      <td>1489.348101</td>\n      <td>560</td>\n      <td>26.66</td>\n    </tr>\n    <tr>\n      <th>19-06-2016 00:00</th>\n      <td>7502073.5</td>\n      <td>2.250000</td>\n      <td>6.00</td>\n      <td>63.143491</td>\n      <td>1233.322034</td>\n      <td>560</td>\n      <td>26.66</td>\n    </tr>\n  </tbody>\n</table>\n</div>"
     },
     "metadata": {},
     "execution_count": 4
    }
   ],
   "source": [
    "data.head()"
   ]
  },
  {
   "cell_type": "code",
   "execution_count": 5,
   "metadata": {},
   "outputs": [
    {
     "output_type": "execute_result",
     "data": {
      "text/plain": "(1414, 7)"
     },
     "metadata": {},
     "execution_count": 5
    }
   ],
   "source": [
    "data.shape"
   ]
  },
  {
   "cell_type": "code",
   "execution_count": 6,
   "metadata": {},
   "outputs": [],
   "source": [
    "X = data.drop(columns=['median-confirmation-time', 'transaction-fees', 'n-transactions-per-block'])\n",
    "Y = data.loc[:, ['transaction-fees']]"
   ]
  },
  {
   "cell_type": "code",
   "execution_count": 7,
   "metadata": {},
   "outputs": [],
   "source": [
    "X_train, X_test, Y_train, Y_test = train_test_split(X, Y, test_size=0.20, random_state=42)"
   ]
  },
  {
   "cell_type": "code",
   "execution_count": 8,
   "metadata": {},
   "outputs": [
    {
     "output_type": "execute_result",
     "data": {
      "text/plain": "                  mempool-size  transactions-per-second  block-gen-mu  \\\nTimestamp                                                               \n08-03-2018 00:00    21909306.5                 2.233333           560   \n23-07-2018 00:00      157956.5                 1.483333           560   \n14-10-2017 00:00    41604137.5                 2.566667           560   \n02-08-2016 00:00     3247602.5                 2.150000           560   \n17-11-2016 00:00     5396091.0                 2.416667           560   \n\n                  tx-gen-time  \nTimestamp                      \n08-03-2018 00:00        26.66  \n23-07-2018 00:00        26.66  \n14-10-2017 00:00        26.66  \n02-08-2016 00:00        26.66  \n17-11-2016 00:00        26.66  ",
      "text/html": "<div>\n<style scoped>\n    .dataframe tbody tr th:only-of-type {\n        vertical-align: middle;\n    }\n\n    .dataframe tbody tr th {\n        vertical-align: top;\n    }\n\n    .dataframe thead th {\n        text-align: right;\n    }\n</style>\n<table border=\"1\" class=\"dataframe\">\n  <thead>\n    <tr style=\"text-align: right;\">\n      <th></th>\n      <th>mempool-size</th>\n      <th>transactions-per-second</th>\n      <th>block-gen-mu</th>\n      <th>tx-gen-time</th>\n    </tr>\n    <tr>\n      <th>Timestamp</th>\n      <th></th>\n      <th></th>\n      <th></th>\n      <th></th>\n    </tr>\n  </thead>\n  <tbody>\n    <tr>\n      <th>08-03-2018 00:00</th>\n      <td>21909306.5</td>\n      <td>2.233333</td>\n      <td>560</td>\n      <td>26.66</td>\n    </tr>\n    <tr>\n      <th>23-07-2018 00:00</th>\n      <td>157956.5</td>\n      <td>1.483333</td>\n      <td>560</td>\n      <td>26.66</td>\n    </tr>\n    <tr>\n      <th>14-10-2017 00:00</th>\n      <td>41604137.5</td>\n      <td>2.566667</td>\n      <td>560</td>\n      <td>26.66</td>\n    </tr>\n    <tr>\n      <th>02-08-2016 00:00</th>\n      <td>3247602.5</td>\n      <td>2.150000</td>\n      <td>560</td>\n      <td>26.66</td>\n    </tr>\n    <tr>\n      <th>17-11-2016 00:00</th>\n      <td>5396091.0</td>\n      <td>2.416667</td>\n      <td>560</td>\n      <td>26.66</td>\n    </tr>\n  </tbody>\n</table>\n</div>"
     },
     "metadata": {},
     "execution_count": 8
    }
   ],
   "source": [
    "X_train.head()"
   ]
  },
  {
   "cell_type": "code",
   "execution_count": 9,
   "metadata": {},
   "outputs": [],
   "source": [
    "from keras.models import load_model"
   ]
  },
  {
   "cell_type": "code",
   "execution_count": 17,
   "metadata": {},
   "outputs": [
    {
     "output_type": "execute_result",
     "data": {
      "text/plain": "<tensorflow.python.client.session.Session at 0x7f2dfc548470>"
     },
     "metadata": {},
     "execution_count": 17
    }
   ],
   "source": [
    "import tensorflow as tf\n",
    "gpu_options = tf.GPUOptions(per_process_gpu_memory_fraction=0.9)\n",
    "\n",
    "tf.Session(config=tf.ConfigProto(gpu_options=gpu_options,allow_soft_placement=True))"
   ]
  },
  {
   "cell_type": "code",
   "execution_count": 10,
   "metadata": {},
   "outputs": [],
   "source": [
    "medConfModel = load_model('weights/MedianConfTime.hfpy')\n",
    "txFeeModel = load_model('weights/TransactionFees.hfpy')\n",
    "numTxModel = load_model('weights/numTransactions.hfpy')"
   ]
  },
  {
   "cell_type": "code",
   "execution_count": 16,
   "metadata": {},
   "outputs": [
    {
     "output_type": "execute_result",
     "data": {
      "text/plain": "   mempool-size  transactions-per-second  block-gen-mu  tx-gen-time\n0        125000                 0.037509           560        26.66",
      "text/html": "<div>\n<style scoped>\n    .dataframe tbody tr th:only-of-type {\n        vertical-align: middle;\n    }\n\n    .dataframe tbody tr th {\n        vertical-align: top;\n    }\n\n    .dataframe thead th {\n        text-align: right;\n    }\n</style>\n<table border=\"1\" class=\"dataframe\">\n  <thead>\n    <tr style=\"text-align: right;\">\n      <th></th>\n      <th>mempool-size</th>\n      <th>transactions-per-second</th>\n      <th>block-gen-mu</th>\n      <th>tx-gen-time</th>\n    </tr>\n  </thead>\n  <tbody>\n    <tr>\n      <th>0</th>\n      <td>125000</td>\n      <td>0.037509</td>\n      <td>560</td>\n      <td>26.66</td>\n    </tr>\n  </tbody>\n</table>\n</div>"
     },
     "metadata": {},
     "execution_count": 16
    }
   ],
   "source": [
    "actX = pd.DataFrame([[125000, 0.037509377344336084, 560, 26.66]], columns=['mempool-size', 'transactions-per-second', 'block-gen-mu', 'tx-gen-time'])\n",
    "actX"
   ]
  },
  {
   "cell_type": "code",
   "execution_count": 17,
   "metadata": {},
   "outputs": [
    {
     "output_type": "execute_result",
     "data": {
      "text/plain": "(array([[4.8770304]], dtype=float32),\n array([[35.148914]], dtype=float32),\n array([[2127.887]], dtype=float32))"
     },
     "metadata": {},
     "execution_count": 17
    }
   ],
   "source": [
    "medConfModel.predict(actX), txFeeModel.predict(actX), numTxModel.predict(actX)"
   ]
  },
  {
   "cell_type": "code",
   "execution_count": 38,
   "metadata": {},
   "outputs": [
    {
     "output_type": "execute_result",
     "data": {
      "text/plain": "   mempool-size  transactions-per-second  block-gen-mu  tx-gen-time\n0    41604137.5                   2.5666            56        26.66",
      "text/html": "<div>\n<style scoped>\n    .dataframe tbody tr th:only-of-type {\n        vertical-align: middle;\n    }\n\n    .dataframe tbody tr th {\n        vertical-align: top;\n    }\n\n    .dataframe thead th {\n        text-align: right;\n    }\n</style>\n<table border=\"1\" class=\"dataframe\">\n  <thead>\n    <tr style=\"text-align: right;\">\n      <th></th>\n      <th>mempool-size</th>\n      <th>transactions-per-second</th>\n      <th>block-gen-mu</th>\n      <th>tx-gen-time</th>\n    </tr>\n  </thead>\n  <tbody>\n    <tr>\n      <th>0</th>\n      <td>41604137.5</td>\n      <td>2.5666</td>\n      <td>56</td>\n      <td>26.66</td>\n    </tr>\n  </tbody>\n</table>\n</div>"
     },
     "metadata": {},
     "execution_count": 38
    }
   ],
   "source": [
    "actX = pd.DataFrame([[41604137.5, 2.5666, 56, 26.66]], columns=['mempool-size', 'transactions-per-second', 'block-gen-mu', 'tx-gen-time'])\n",
    "actX"
   ]
  },
  {
   "cell_type": "code",
   "execution_count": 39,
   "metadata": {},
   "outputs": [
    {
     "output_type": "execute_result",
     "data": {
      "text/plain": "(array([[8.533049]], dtype=float32),\n array([[152.72658]], dtype=float32),\n array([[511.16837]], dtype=float32))"
     },
     "metadata": {},
     "execution_count": 39
    }
   ],
   "source": [
    "medConfModel.predict(actX), txFeeModel.predict(actX), numTxModel.predict(actX)"
   ]
  },
  {
   "cell_type": "code",
   "execution_count": 37,
   "metadata": {},
   "outputs": [],
   "source": [
    "from sklearn.metrics import r2_score"
   ]
  },
  {
   "cell_type": "code",
   "execution_count": 59,
   "metadata": {},
   "outputs": [],
   "source": [
    "Y_pred = txFeeModel.predict(X_train)"
   ]
  },
  {
   "cell_type": "code",
   "execution_count": 48,
   "metadata": {},
   "outputs": [
    {
     "output_type": "execute_result",
     "data": {
      "text/plain": "0.5874670328158076"
     },
     "metadata": {},
     "execution_count": 48
    }
   ],
   "source": [
    "r2_score(Y_train, Y_pred) # Transaction Fees"
   ]
  }
 ],
 "metadata": {
  "language_info": {
   "codemirror_mode": {
    "name": "ipython",
    "version": 3
   },
   "file_extension": ".py",
   "mimetype": "text/x-python",
   "name": "python",
   "nbconvert_exporter": "python",
   "pygments_lexer": "ipython3",
   "version": "3.6.7-final"
  },
  "orig_nbformat": 2,
  "kernelspec": {
   "name": "python36764bitmlvirtualenvc13a4d2927d34998a88f4ebd49bc3a3a",
   "display_name": "Python 3.6.7 64-bit ('ML': virtualenv)"
  }
 },
 "nbformat": 4,
 "nbformat_minor": 2
}