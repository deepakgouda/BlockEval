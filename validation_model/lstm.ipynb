{
 "cells": [
  {
   "cell_type": "code",
   "execution_count": 1,
   "metadata": {},
   "outputs": [],
   "source": [
    "import pandas as pd\n",
    "import numpy as np\n",
    "\n",
    "from sklearn.model_selection import train_test_split\n",
    "from sklearn.metrics import mean_squared_error"
   ]
  },
  {
   "cell_type": "code",
   "execution_count": 273,
   "metadata": {},
   "outputs": [],
   "source": [
    "from keras.models import Sequential\n",
    "from keras.layers import Dense, Flatten, LSTM, RepeatVector, TimeDistributed, ConvLSTM2D, LeakyReLU, BatchNormalization, Dropout\n",
    "from keras.layers.convolutional import Conv1D, MaxPooling1D\n",
    "from keras.optimizers import Adam\n",
    "from keras.callbacks import EarlyStopping"
   ]
  },
  {
   "cell_type": "code",
   "execution_count": 274,
   "metadata": {},
   "outputs": [],
   "source": [
    "data = pd.read_csv('./BSACTData.csv', index_col='Timestamp')\n",
    "data = data.dropna()"
   ]
  },
  {
   "cell_type": "code",
   "execution_count": 277,
   "metadata": {},
   "outputs": [],
   "source": [
    "data['block-gen-mu'] = 560\n",
    "data['tx-gen-time'] = 26.66"
   ]
  },
  {
   "cell_type": "code",
   "execution_count": 276,
   "metadata": {},
   "outputs": [],
   "source": [
    "data = pd.read_csv('./BSACTDataII.csv', index_col='Timestamp')\n",
    "data = data[:5000]"
   ]
  },
  {
   "cell_type": "code",
   "execution_count": 278,
   "metadata": {},
   "outputs": [
    {
     "output_type": "execute_result",
     "data": {
      "text/plain": "                     mempool-size  transactions-per-second  \\\nTimestamp                                                    \n2016-06-14 14:45:00    22589818.0                 2.850000   \n2016-06-14 15:00:00    23395603.0                 2.900000   \n2016-06-14 15:15:00    23095796.0                 3.333333   \n2016-06-14 15:30:00    22710508.0                 3.533333   \n2016-06-14 15:45:00    23625103.0                 3.050000   \n\n                     median-confirmation-time  transaction-fees  \\\nTimestamp                                                         \n2016-06-14 14:45:00                 13.044534        163.686453   \n2016-06-14 15:00:00                 11.540231        163.148091   \n2016-06-14 15:15:00                 12.938979        179.227342   \n2016-06-14 15:30:00                 14.100040        184.766794   \n2016-06-14 15:45:00                 11.947961        214.149393   \n\n                     n-transactions-per-block  block-gen-mu  tx-gen-time  \nTimestamp                                                                 \n2016-06-14 14:45:00               1649.658883           560        26.66  \n2016-06-14 15:00:00               1004.688315           560        26.66  \n2016-06-14 15:15:00               1834.375260           560        26.66  \n2016-06-14 15:30:00               1648.088803           560        26.66  \n2016-06-14 15:45:00               2060.941785           560        26.66  ",
      "text/html": "<div>\n<style scoped>\n    .dataframe tbody tr th:only-of-type {\n        vertical-align: middle;\n    }\n\n    .dataframe tbody tr th {\n        vertical-align: top;\n    }\n\n    .dataframe thead th {\n        text-align: right;\n    }\n</style>\n<table border=\"1\" class=\"dataframe\">\n  <thead>\n    <tr style=\"text-align: right;\">\n      <th></th>\n      <th>mempool-size</th>\n      <th>transactions-per-second</th>\n      <th>median-confirmation-time</th>\n      <th>transaction-fees</th>\n      <th>n-transactions-per-block</th>\n      <th>block-gen-mu</th>\n      <th>tx-gen-time</th>\n    </tr>\n    <tr>\n      <th>Timestamp</th>\n      <th></th>\n      <th></th>\n      <th></th>\n      <th></th>\n      <th></th>\n      <th></th>\n      <th></th>\n    </tr>\n  </thead>\n  <tbody>\n    <tr>\n      <th>2016-06-14 14:45:00</th>\n      <td>22589818.0</td>\n      <td>2.850000</td>\n      <td>13.044534</td>\n      <td>163.686453</td>\n      <td>1649.658883</td>\n      <td>560</td>\n      <td>26.66</td>\n    </tr>\n    <tr>\n      <th>2016-06-14 15:00:00</th>\n      <td>23395603.0</td>\n      <td>2.900000</td>\n      <td>11.540231</td>\n      <td>163.148091</td>\n      <td>1004.688315</td>\n      <td>560</td>\n      <td>26.66</td>\n    </tr>\n    <tr>\n      <th>2016-06-14 15:15:00</th>\n      <td>23095796.0</td>\n      <td>3.333333</td>\n      <td>12.938979</td>\n      <td>179.227342</td>\n      <td>1834.375260</td>\n      <td>560</td>\n      <td>26.66</td>\n    </tr>\n    <tr>\n      <th>2016-06-14 15:30:00</th>\n      <td>22710508.0</td>\n      <td>3.533333</td>\n      <td>14.100040</td>\n      <td>184.766794</td>\n      <td>1648.088803</td>\n      <td>560</td>\n      <td>26.66</td>\n    </tr>\n    <tr>\n      <th>2016-06-14 15:45:00</th>\n      <td>23625103.0</td>\n      <td>3.050000</td>\n      <td>11.947961</td>\n      <td>214.149393</td>\n      <td>2060.941785</td>\n      <td>560</td>\n      <td>26.66</td>\n    </tr>\n  </tbody>\n</table>\n</div>"
     },
     "metadata": {},
     "execution_count": 278
    }
   ],
   "source": [
    "data.head()"
   ]
  },
  {
   "cell_type": "code",
   "execution_count": 279,
   "metadata": {},
   "outputs": [
    {
     "output_type": "execute_result",
     "data": {
      "text/plain": "(5000, 7)"
     },
     "metadata": {},
     "execution_count": 279
    }
   ],
   "source": [
    "data.shape"
   ]
  },
  {
   "cell_type": "code",
   "execution_count": 280,
   "metadata": {},
   "outputs": [],
   "source": [
    "X = data.drop(columns=['median-confirmation-time', 'transaction-fees', 'n-transactions-per-block'])\n",
    "y = data.loc[:, ['median-confirmation-time']]"
   ]
  },
  {
   "cell_type": "code",
   "execution_count": 281,
   "metadata": {},
   "outputs": [],
   "source": [
    "def split_dataset(X, y, split=0.25, look_back=7, num_step=3):\n",
    "    len_split = int(np.shape(X)[0]*split)\n",
    "    \n",
    "    _X_train, _X_test = X[:-len_split], X[-len_split:-num_step]\n",
    "    _y_train, _y_test = y[:-len_split], y[-len_split:-num_step]\n",
    "    \n",
    "    m, n = np.shape(_X_train)\n",
    "    X_train = np.zeros((m-look_back-num_step, look_back, n))\n",
    "    y_train = np.zeros((m-look_back-num_step, num_step))\n",
    "    for i in range(look_back-1, m-num_step):\n",
    "        X_train[i-look_back-1] = _X_train[i-(look_back-1):i+1]\n",
    "        y_train[i-look_back-1] = _y_train[i:i+(num_step)]\n",
    "    \n",
    "    m, n = np.shape(_X_test)\n",
    "    X_test = np.zeros((m-look_back-num_step, look_back, n))\n",
    "    y_test = np.zeros((m-look_back-num_step, num_step))\n",
    "    for i in range(look_back-1, m-num_step):\n",
    "        X_test[i-look_back-1] = _X_test[i-(look_back-1):i+1]\n",
    "        y_test[i-look_back-1] = _y_test[i:i+(num_step)]\n",
    "\n",
    "    return X_train, X_test, y_train, y_test"
   ]
  },
  {
   "cell_type": "code",
   "execution_count": 295,
   "metadata": {},
   "outputs": [],
   "source": [
    "def build_model(X_train, y_train):\n",
    "    n_timesteps, n_features, n_outputs = np.shape(X_train)[1], np.shape(X_train)[2], np.shape(y_train)[1]\n",
    "    \n",
    "    model = Sequential()\n",
    "    model.add(LSTM(50, input_shape=(n_timesteps, n_features), return_sequences=True))\n",
    "    # model.add(LSTM(50, input_shape=(n_timesteps, n_features)))\n",
    "    model.add(LSTM(100, return_sequences=True))\n",
    "    model.add(LeakyReLU())\n",
    "\n",
    "    model.add(LSTM(500, return_sequences=True))\n",
    "    model.add(LeakyReLU())\n",
    "    \n",
    "    model.add(LSTM(100, return_sequences=True))\n",
    "    model.add(LeakyReLU())\n",
    "\n",
    "    model.add(LSTM(50))\n",
    "    model.add(LeakyReLU())    \n",
    "\n",
    "    model.add(Dense(100))\n",
    "    model.add(LeakyReLU())\n",
    "    # model.add(BatchNormalization())\n",
    "    model.add(Dropout(0.2))\n",
    "    \n",
    "    model.add(Dense(100))\n",
    "    model.add(LeakyReLU())\n",
    "    # model.add(BatchNormalization())\n",
    "    \n",
    "    model.add(Dense(n_outputs))\n",
    "    model.add(LeakyReLU())\n",
    "    optimizer = Adam(lr=0.0001, beta_1=0.9, beta_2=0.999, decay=0.01)\n",
    "    model.compile(loss='mse', optimizer=optimizer)\n",
    "    return model"
   ]
  },
  {
   "cell_type": "code",
   "execution_count": 296,
   "metadata": {},
   "outputs": [],
   "source": [
    "arr_y = [_[0] for _ in y.values]\n",
    "X_train, X_test, y_train, y_test = split_dataset(X.values, arr_y)"
   ]
  },
  {
   "cell_type": "code",
   "execution_count": 297,
   "metadata": {},
   "outputs": [
    {
     "output_type": "execute_result",
     "data": {
      "text/plain": "((3740, 7, 4), (1237, 7, 4), (3740, 3), (1237, 3))"
     },
     "metadata": {},
     "execution_count": 297
    }
   ],
   "source": [
    "np.shape(X_train), np.shape(X_test), np.shape(y_train), np.shape(y_test)"
   ]
  },
  {
   "cell_type": "code",
   "execution_count": 303,
   "metadata": {},
   "outputs": [],
   "source": [
    "model = build_model(X_train, y_train)"
   ]
  },
  {
   "cell_type": "code",
   "execution_count": 304,
   "metadata": {},
   "outputs": [
    {
     "output_type": "stream",
     "name": "stdout",
     "text": "_________________________________________________________________\nLayer (type)                 Output Shape              Param #   \n=================================================================\nlstm_55 (LSTM)               (None, 7, 50)             11000     \n_________________________________________________________________\nlstm_56 (LSTM)               (None, 7, 100)            60400     \n_________________________________________________________________\nleaky_re_lu_67 (LeakyReLU)   (None, 7, 100)            0         \n_________________________________________________________________\nlstm_57 (LSTM)               (None, 7, 500)            1202000   \n_________________________________________________________________\nleaky_re_lu_68 (LeakyReLU)   (None, 7, 500)            0         \n_________________________________________________________________\nlstm_58 (LSTM)               (None, 7, 100)            240400    \n_________________________________________________________________\nleaky_re_lu_69 (LeakyReLU)   (None, 7, 100)            0         \n_________________________________________________________________\nlstm_59 (LSTM)               (None, 50)                30200     \n_________________________________________________________________\nleaky_re_lu_70 (LeakyReLU)   (None, 50)                0         \n_________________________________________________________________\ndense_53 (Dense)             (None, 100)               5100      \n_________________________________________________________________\nleaky_re_lu_71 (LeakyReLU)   (None, 100)               0         \n_________________________________________________________________\ndropout_3 (Dropout)          (None, 100)               0         \n_________________________________________________________________\ndense_54 (Dense)             (None, 100)               10100     \n_________________________________________________________________\nleaky_re_lu_72 (LeakyReLU)   (None, 100)               0         \n_________________________________________________________________\ndense_55 (Dense)             (None, 3)                 303       \n_________________________________________________________________\nleaky_re_lu_73 (LeakyReLU)   (None, 3)                 0         \n=================================================================\nTotal params: 1,559,503\nTrainable params: 1,559,503\nNon-trainable params: 0\n_________________________________________________________________\n"
    }
   ],
   "source": [
    "model.summary()"
   ]
  },
  {
   "cell_type": "code",
   "execution_count": 305,
   "metadata": {},
   "outputs": [
    {
     "output_type": "stream",
     "name": "stdout",
     "text": "Train on 2992 samples, validate on 748 samples\nEpoch 1/30\n2992/2992 [==============================] - 17s 6ms/step - loss: 61.3957 - val_loss: 28.3676\nEpoch 2/30\n2992/2992 [==============================] - 11s 4ms/step - loss: 17.8590 - val_loss: 14.9556\nEpoch 3/30\n2992/2992 [==============================] - 11s 4ms/step - loss: 14.3071 - val_loss: 13.9006\nEpoch 4/30\n2992/2992 [==============================] - 11s 4ms/step - loss: 14.0858 - val_loss: 13.7511\nEpoch 5/30\n2992/2992 [==============================] - 10s 3ms/step - loss: 13.9800 - val_loss: 13.6956\nEpoch 6/30\n2992/2992 [==============================] - 10s 3ms/step - loss: 13.9421 - val_loss: 13.7107\nEpoch 7/30\n2992/2992 [==============================] - 10s 3ms/step - loss: 14.0095 - val_loss: 13.7014\nEpoch 8/30\n2992/2992 [==============================] - 10s 3ms/step - loss: 14.1069 - val_loss: 13.6870\nEpoch 9/30\n2992/2992 [==============================] - 10s 3ms/step - loss: 14.1317 - val_loss: 13.6875\nEpoch 10/30\n2992/2992 [==============================] - 10s 3ms/step - loss: 14.0218 - val_loss: 13.6835\nEpoch 11/30\n2992/2992 [==============================] - 10s 3ms/step - loss: 14.0832 - val_loss: 13.6857\nEpoch 12/30\n2992/2992 [==============================] - 10s 3ms/step - loss: 14.0052 - val_loss: 13.6796\nEpoch 13/30\n2992/2992 [==============================] - 10s 3ms/step - loss: 14.0161 - val_loss: 13.6776\nEpoch 14/30\n2992/2992 [==============================] - 9s 3ms/step - loss: 14.0325 - val_loss: 13.6749\nEpoch 15/30\n2992/2992 [==============================] - 9s 3ms/step - loss: 13.9176 - val_loss: 13.6715\nEpoch 16/30\n2992/2992 [==============================] - 10s 3ms/step - loss: 13.9181 - val_loss: 13.6708\nEpoch 17/30\n2992/2992 [==============================] - 10s 3ms/step - loss: 13.8080 - val_loss: 13.6665\nEpoch 18/30\n2992/2992 [==============================] - 10s 3ms/step - loss: 13.9091 - val_loss: 13.6716\nEpoch 19/30\n2992/2992 [==============================] - 10s 3ms/step - loss: 13.9810 - val_loss: 13.6733\nEpoch 20/30\n2992/2992 [==============================] - 10s 3ms/step - loss: 13.9530 - val_loss: 13.6727\nEpoch 21/30\n2992/2992 [==============================] - 10s 3ms/step - loss: 13.9254 - val_loss: 13.6699\nEpoch 22/30\n2992/2992 [==============================] - 10s 3ms/step - loss: 13.9723 - val_loss: 13.6675\n"
    }
   ],
   "source": [
    "verbose, epochs, batch_size = 1, 30, 16\n",
    "early_stopping_monitor = EarlyStopping(patience=5)\n",
    "history = model.fit(X_train, y_train, epochs=epochs, batch_size=batch_size, validation_split=0.2, callbacks=[early_stopping_monitor], shuffle=False);\n",
    "# history = model.fit(X_train, y_train, epochs=epochs, batch_size=batch_size, validation_split=0.2);"
   ]
  },
  {
   "cell_type": "code",
   "execution_count": 306,
   "metadata": {},
   "outputs": [
    {
     "output_type": "display_data",
     "data": {
      "text/plain": "<Figure size 432x288 with 1 Axes>",
      "image/svg+xml": "<?xml version=\"1.0\" encoding=\"utf-8\" standalone=\"no\"?>\n<!DOCTYPE svg PUBLIC \"-//W3C//DTD SVG 1.1//EN\"\n  \"http://www.w3.org/Graphics/SVG/1.1/DTD/svg11.dtd\">\n<!-- Created with matplotlib (https://matplotlib.org/) -->\n<svg height=\"252.018125pt\" version=\"1.1\" viewBox=\"0 0 372.425 252.018125\" width=\"372.425pt\" xmlns=\"http://www.w3.org/2000/svg\" xmlns:xlink=\"http://www.w3.org/1999/xlink\">\n <defs>\n  <style type=\"text/css\">\n*{stroke-linecap:butt;stroke-linejoin:round;}\n  </style>\n </defs>\n <g id=\"figure_1\">\n  <g id=\"patch_1\">\n   <path d=\"M -0 252.018125 \nL 372.425 252.018125 \nL 372.425 0 \nL -0 0 \nz\n\" style=\"fill:none;\"/>\n  </g>\n  <g id=\"axes_1\">\n   <g id=\"patch_2\">\n    <path d=\"M 26.925 228.14 \nL 361.725 228.14 \nL 361.725 10.7 \nL 26.925 10.7 \nz\n\" style=\"fill:#ffffff;\"/>\n   </g>\n   <g id=\"matplotlib.axis_1\">\n    <g id=\"xtick_1\">\n     <g id=\"line2d_1\">\n      <defs>\n       <path d=\"M 0 0 \nL 0 3.5 \n\" id=\"mb6524e5bb4\" style=\"stroke:#000000;stroke-width:0.8;\"/>\n      </defs>\n      <g>\n       <use style=\"stroke:#000000;stroke-width:0.8;\" x=\"42.143182\" xlink:href=\"#mb6524e5bb4\" y=\"228.14\"/>\n      </g>\n     </g>\n     <g id=\"text_1\">\n      <!-- 0 -->\n      <defs>\n       <path d=\"M 31.78125 66.40625 \nQ 24.171875 66.40625 20.328125 58.90625 \nQ 16.5 51.421875 16.5 36.375 \nQ 16.5 21.390625 20.328125 13.890625 \nQ 24.171875 6.390625 31.78125 6.390625 \nQ 39.453125 6.390625 43.28125 13.890625 \nQ 47.125 21.390625 47.125 36.375 \nQ 47.125 51.421875 43.28125 58.90625 \nQ 39.453125 66.40625 31.78125 66.40625 \nz\nM 31.78125 74.21875 \nQ 44.046875 74.21875 50.515625 64.515625 \nQ 56.984375 54.828125 56.984375 36.375 \nQ 56.984375 17.96875 50.515625 8.265625 \nQ 44.046875 -1.421875 31.78125 -1.421875 \nQ 19.53125 -1.421875 13.0625 8.265625 \nQ 6.59375 17.96875 6.59375 36.375 \nQ 6.59375 54.828125 13.0625 64.515625 \nQ 19.53125 74.21875 31.78125 74.21875 \nz\n\" id=\"DejaVuSans-48\"/>\n      </defs>\n      <g transform=\"translate(38.961932 242.738437)scale(0.1 -0.1)\">\n       <use xlink:href=\"#DejaVuSans-48\"/>\n      </g>\n     </g>\n    </g>\n    <g id=\"xtick_2\">\n     <g id=\"line2d_2\">\n      <g>\n       <use style=\"stroke:#000000;stroke-width:0.8;\" x=\"114.610714\" xlink:href=\"#mb6524e5bb4\" y=\"228.14\"/>\n      </g>\n     </g>\n     <g id=\"text_2\">\n      <!-- 5 -->\n      <defs>\n       <path d=\"M 10.796875 72.90625 \nL 49.515625 72.90625 \nL 49.515625 64.59375 \nL 19.828125 64.59375 \nL 19.828125 46.734375 \nQ 21.96875 47.46875 24.109375 47.828125 \nQ 26.265625 48.1875 28.421875 48.1875 \nQ 40.625 48.1875 47.75 41.5 \nQ 54.890625 34.8125 54.890625 23.390625 \nQ 54.890625 11.625 47.5625 5.09375 \nQ 40.234375 -1.421875 26.90625 -1.421875 \nQ 22.3125 -1.421875 17.546875 -0.640625 \nQ 12.796875 0.140625 7.71875 1.703125 \nL 7.71875 11.625 \nQ 12.109375 9.234375 16.796875 8.0625 \nQ 21.484375 6.890625 26.703125 6.890625 \nQ 35.15625 6.890625 40.078125 11.328125 \nQ 45.015625 15.765625 45.015625 23.390625 \nQ 45.015625 31 40.078125 35.4375 \nQ 35.15625 39.890625 26.703125 39.890625 \nQ 22.75 39.890625 18.8125 39.015625 \nQ 14.890625 38.140625 10.796875 36.28125 \nz\n\" id=\"DejaVuSans-53\"/>\n      </defs>\n      <g transform=\"translate(111.429464 242.738437)scale(0.1 -0.1)\">\n       <use xlink:href=\"#DejaVuSans-53\"/>\n      </g>\n     </g>\n    </g>\n    <g id=\"xtick_3\">\n     <g id=\"line2d_3\">\n      <g>\n       <use style=\"stroke:#000000;stroke-width:0.8;\" x=\"187.078247\" xlink:href=\"#mb6524e5bb4\" y=\"228.14\"/>\n      </g>\n     </g>\n     <g id=\"text_3\">\n      <!-- 10 -->\n      <defs>\n       <path d=\"M 12.40625 8.296875 \nL 28.515625 8.296875 \nL 28.515625 63.921875 \nL 10.984375 60.40625 \nL 10.984375 69.390625 \nL 28.421875 72.90625 \nL 38.28125 72.90625 \nL 38.28125 8.296875 \nL 54.390625 8.296875 \nL 54.390625 0 \nL 12.40625 0 \nz\n\" id=\"DejaVuSans-49\"/>\n      </defs>\n      <g transform=\"translate(180.715747 242.738437)scale(0.1 -0.1)\">\n       <use xlink:href=\"#DejaVuSans-49\"/>\n       <use x=\"63.623047\" xlink:href=\"#DejaVuSans-48\"/>\n      </g>\n     </g>\n    </g>\n    <g id=\"xtick_4\">\n     <g id=\"line2d_4\">\n      <g>\n       <use style=\"stroke:#000000;stroke-width:0.8;\" x=\"259.545779\" xlink:href=\"#mb6524e5bb4\" y=\"228.14\"/>\n      </g>\n     </g>\n     <g id=\"text_4\">\n      <!-- 15 -->\n      <g transform=\"translate(253.183279 242.738437)scale(0.1 -0.1)\">\n       <use xlink:href=\"#DejaVuSans-49\"/>\n       <use x=\"63.623047\" xlink:href=\"#DejaVuSans-53\"/>\n      </g>\n     </g>\n    </g>\n    <g id=\"xtick_5\">\n     <g id=\"line2d_5\">\n      <g>\n       <use style=\"stroke:#000000;stroke-width:0.8;\" x=\"332.013312\" xlink:href=\"#mb6524e5bb4\" y=\"228.14\"/>\n      </g>\n     </g>\n     <g id=\"text_5\">\n      <!-- 20 -->\n      <defs>\n       <path d=\"M 19.1875 8.296875 \nL 53.609375 8.296875 \nL 53.609375 0 \nL 7.328125 0 \nL 7.328125 8.296875 \nQ 12.9375 14.109375 22.625 23.890625 \nQ 32.328125 33.6875 34.8125 36.53125 \nQ 39.546875 41.84375 41.421875 45.53125 \nQ 43.3125 49.21875 43.3125 52.78125 \nQ 43.3125 58.59375 39.234375 62.25 \nQ 35.15625 65.921875 28.609375 65.921875 \nQ 23.96875 65.921875 18.8125 64.3125 \nQ 13.671875 62.703125 7.8125 59.421875 \nL 7.8125 69.390625 \nQ 13.765625 71.78125 18.9375 73 \nQ 24.125 74.21875 28.421875 74.21875 \nQ 39.75 74.21875 46.484375 68.546875 \nQ 53.21875 62.890625 53.21875 53.421875 \nQ 53.21875 48.921875 51.53125 44.890625 \nQ 49.859375 40.875 45.40625 35.40625 \nQ 44.1875 33.984375 37.640625 27.21875 \nQ 31.109375 20.453125 19.1875 8.296875 \nz\n\" id=\"DejaVuSans-50\"/>\n      </defs>\n      <g transform=\"translate(325.650812 242.738437)scale(0.1 -0.1)\">\n       <use xlink:href=\"#DejaVuSans-50\"/>\n       <use x=\"63.623047\" xlink:href=\"#DejaVuSans-48\"/>\n      </g>\n     </g>\n    </g>\n   </g>\n   <g id=\"matplotlib.axis_2\">\n    <g id=\"ytick_1\">\n     <g id=\"line2d_6\">\n      <defs>\n       <path d=\"M 0 0 \nL -3.5 0 \n\" id=\"mab2e907627\" style=\"stroke:#000000;stroke-width:0.8;\"/>\n      </defs>\n      <g>\n       <use style=\"stroke:#000000;stroke-width:0.8;\" x=\"26.925\" xlink:href=\"#mab2e907627\" y=\"192.025853\"/>\n      </g>\n     </g>\n     <g id=\"text_6\">\n      <!-- 20 -->\n      <g transform=\"translate(7.2 195.825072)scale(0.1 -0.1)\">\n       <use xlink:href=\"#DejaVuSans-50\"/>\n       <use x=\"63.623047\" xlink:href=\"#DejaVuSans-48\"/>\n      </g>\n     </g>\n    </g>\n    <g id=\"ytick_2\">\n     <g id=\"line2d_7\">\n      <g>\n       <use style=\"stroke:#000000;stroke-width:0.8;\" x=\"26.925\" xlink:href=\"#mab2e907627\" y=\"150.610387\"/>\n      </g>\n     </g>\n     <g id=\"text_7\">\n      <!-- 30 -->\n      <defs>\n       <path d=\"M 40.578125 39.3125 \nQ 47.65625 37.796875 51.625 33 \nQ 55.609375 28.21875 55.609375 21.1875 \nQ 55.609375 10.40625 48.1875 4.484375 \nQ 40.765625 -1.421875 27.09375 -1.421875 \nQ 22.515625 -1.421875 17.65625 -0.515625 \nQ 12.796875 0.390625 7.625 2.203125 \nL 7.625 11.71875 \nQ 11.71875 9.328125 16.59375 8.109375 \nQ 21.484375 6.890625 26.8125 6.890625 \nQ 36.078125 6.890625 40.9375 10.546875 \nQ 45.796875 14.203125 45.796875 21.1875 \nQ 45.796875 27.640625 41.28125 31.265625 \nQ 36.765625 34.90625 28.71875 34.90625 \nL 20.21875 34.90625 \nL 20.21875 43.015625 \nL 29.109375 43.015625 \nQ 36.375 43.015625 40.234375 45.921875 \nQ 44.09375 48.828125 44.09375 54.296875 \nQ 44.09375 59.90625 40.109375 62.90625 \nQ 36.140625 65.921875 28.71875 65.921875 \nQ 24.65625 65.921875 20.015625 65.03125 \nQ 15.375 64.15625 9.8125 62.3125 \nL 9.8125 71.09375 \nQ 15.4375 72.65625 20.34375 73.4375 \nQ 25.25 74.21875 29.59375 74.21875 \nQ 40.828125 74.21875 47.359375 69.109375 \nQ 53.90625 64.015625 53.90625 55.328125 \nQ 53.90625 49.265625 50.4375 45.09375 \nQ 46.96875 40.921875 40.578125 39.3125 \nz\n\" id=\"DejaVuSans-51\"/>\n      </defs>\n      <g transform=\"translate(7.2 154.409606)scale(0.1 -0.1)\">\n       <use xlink:href=\"#DejaVuSans-51\"/>\n       <use x=\"63.623047\" xlink:href=\"#DejaVuSans-48\"/>\n      </g>\n     </g>\n    </g>\n    <g id=\"ytick_3\">\n     <g id=\"line2d_8\">\n      <g>\n       <use style=\"stroke:#000000;stroke-width:0.8;\" x=\"26.925\" xlink:href=\"#mab2e907627\" y=\"109.194921\"/>\n      </g>\n     </g>\n     <g id=\"text_8\">\n      <!-- 40 -->\n      <defs>\n       <path d=\"M 37.796875 64.3125 \nL 12.890625 25.390625 \nL 37.796875 25.390625 \nz\nM 35.203125 72.90625 \nL 47.609375 72.90625 \nL 47.609375 25.390625 \nL 58.015625 25.390625 \nL 58.015625 17.1875 \nL 47.609375 17.1875 \nL 47.609375 0 \nL 37.796875 0 \nL 37.796875 17.1875 \nL 4.890625 17.1875 \nL 4.890625 26.703125 \nz\n\" id=\"DejaVuSans-52\"/>\n      </defs>\n      <g transform=\"translate(7.2 112.99414)scale(0.1 -0.1)\">\n       <use xlink:href=\"#DejaVuSans-52\"/>\n       <use x=\"63.623047\" xlink:href=\"#DejaVuSans-48\"/>\n      </g>\n     </g>\n    </g>\n    <g id=\"ytick_4\">\n     <g id=\"line2d_9\">\n      <g>\n       <use style=\"stroke:#000000;stroke-width:0.8;\" x=\"26.925\" xlink:href=\"#mab2e907627\" y=\"67.779455\"/>\n      </g>\n     </g>\n     <g id=\"text_9\">\n      <!-- 50 -->\n      <g transform=\"translate(7.2 71.578674)scale(0.1 -0.1)\">\n       <use xlink:href=\"#DejaVuSans-53\"/>\n       <use x=\"63.623047\" xlink:href=\"#DejaVuSans-48\"/>\n      </g>\n     </g>\n    </g>\n    <g id=\"ytick_5\">\n     <g id=\"line2d_10\">\n      <g>\n       <use style=\"stroke:#000000;stroke-width:0.8;\" x=\"26.925\" xlink:href=\"#mab2e907627\" y=\"26.363989\"/>\n      </g>\n     </g>\n     <g id=\"text_10\">\n      <!-- 60 -->\n      <defs>\n       <path d=\"M 33.015625 40.375 \nQ 26.375 40.375 22.484375 35.828125 \nQ 18.609375 31.296875 18.609375 23.390625 \nQ 18.609375 15.53125 22.484375 10.953125 \nQ 26.375 6.390625 33.015625 6.390625 \nQ 39.65625 6.390625 43.53125 10.953125 \nQ 47.40625 15.53125 47.40625 23.390625 \nQ 47.40625 31.296875 43.53125 35.828125 \nQ 39.65625 40.375 33.015625 40.375 \nz\nM 52.59375 71.296875 \nL 52.59375 62.3125 \nQ 48.875 64.0625 45.09375 64.984375 \nQ 41.3125 65.921875 37.59375 65.921875 \nQ 27.828125 65.921875 22.671875 59.328125 \nQ 17.53125 52.734375 16.796875 39.40625 \nQ 19.671875 43.65625 24.015625 45.921875 \nQ 28.375 48.1875 33.59375 48.1875 \nQ 44.578125 48.1875 50.953125 41.515625 \nQ 57.328125 34.859375 57.328125 23.390625 \nQ 57.328125 12.15625 50.6875 5.359375 \nQ 44.046875 -1.421875 33.015625 -1.421875 \nQ 20.359375 -1.421875 13.671875 8.265625 \nQ 6.984375 17.96875 6.984375 36.375 \nQ 6.984375 53.65625 15.1875 63.9375 \nQ 23.390625 74.21875 37.203125 74.21875 \nQ 40.921875 74.21875 44.703125 73.484375 \nQ 48.484375 72.75 52.59375 71.296875 \nz\n\" id=\"DejaVuSans-54\"/>\n      </defs>\n      <g transform=\"translate(7.2 30.163207)scale(0.1 -0.1)\">\n       <use xlink:href=\"#DejaVuSans-54\"/>\n       <use x=\"63.623047\" xlink:href=\"#DejaVuSans-48\"/>\n      </g>\n     </g>\n    </g>\n   </g>\n   <g id=\"line2d_11\">\n    <path clip-path=\"url(#p612a368a48)\" d=\"M 42.143182 20.583636 \nL 56.636688 200.892698 \nL 71.130195 215.603159 \nL 85.623701 216.519797 \nL 100.117208 216.957998 \nL 114.610714 217.114737 \nL 129.104221 216.835689 \nL 143.597727 216.432499 \nL 158.091234 216.32986 \nL 172.58474 216.784758 \nL 187.078247 216.530659 \nL 201.571753 216.853452 \nL 216.06526 216.808446 \nL 230.558766 216.740442 \nL 245.052273 217.21646 \nL 259.545779 217.214454 \nL 274.039286 217.670355 \nL 288.532792 217.251405 \nL 303.026299 216.953721 \nL 317.519805 217.0696 \nL 332.013312 217.184281 \nL 346.506818 216.989878 \n\" style=\"fill:none;stroke:#1f77b4;stroke-linecap:square;stroke-width:1.5;\"/>\n   </g>\n   <g id=\"line2d_12\">\n    <path clip-path=\"url(#p612a368a48)\" d=\"M 42.143182 157.370949 \nL 56.636688 212.917334 \nL 71.130195 217.286961 \nL 85.623701 217.906088 \nL 100.117208 218.135615 \nL 114.610714 218.073232 \nL 129.104221 218.111922 \nL 143.597727 218.171583 \nL 158.091234 218.169451 \nL 172.58474 218.186057 \nL 187.078247 218.176861 \nL 201.571753 218.202175 \nL 216.06526 218.210286 \nL 230.558766 218.221662 \nL 245.052273 218.235679 \nL 259.545779 218.23844 \nL 274.039286 218.256364 \nL 288.532792 218.235359 \nL 303.026299 218.227969 \nL 317.519805 218.230682 \nL 332.013312 218.242221 \nL 346.506818 218.252158 \n\" style=\"fill:none;stroke:#ff7f0e;stroke-linecap:square;stroke-width:1.5;\"/>\n   </g>\n   <g id=\"patch_3\">\n    <path d=\"M 26.925 228.14 \nL 26.925 10.7 \n\" style=\"fill:none;stroke:#000000;stroke-linecap:square;stroke-linejoin:miter;stroke-width:0.8;\"/>\n   </g>\n   <g id=\"patch_4\">\n    <path d=\"M 361.725 228.14 \nL 361.725 10.7 \n\" style=\"fill:none;stroke:#000000;stroke-linecap:square;stroke-linejoin:miter;stroke-width:0.8;\"/>\n   </g>\n   <g id=\"patch_5\">\n    <path d=\"M 26.925 228.14 \nL 361.725 228.14 \n\" style=\"fill:none;stroke:#000000;stroke-linecap:square;stroke-linejoin:miter;stroke-width:0.8;\"/>\n   </g>\n   <g id=\"patch_6\">\n    <path d=\"M 26.925 10.7 \nL 361.725 10.7 \n\" style=\"fill:none;stroke:#000000;stroke-linecap:square;stroke-linejoin:miter;stroke-width:0.8;\"/>\n   </g>\n   <g id=\"legend_1\">\n    <g id=\"patch_7\">\n     <path d=\"M 299.45 48.05625 \nL 354.725 48.05625 \nQ 356.725 48.05625 356.725 46.05625 \nL 356.725 17.7 \nQ 356.725 15.7 354.725 15.7 \nL 299.45 15.7 \nQ 297.45 15.7 297.45 17.7 \nL 297.45 46.05625 \nQ 297.45 48.05625 299.45 48.05625 \nz\n\" style=\"fill:#ffffff;opacity:0.8;stroke:#cccccc;stroke-linejoin:miter;\"/>\n    </g>\n    <g id=\"line2d_13\">\n     <path d=\"M 301.45 23.798437 \nL 321.45 23.798437 \n\" style=\"fill:none;stroke:#1f77b4;stroke-linecap:square;stroke-width:1.5;\"/>\n    </g>\n    <g id=\"line2d_14\"/>\n    <g id=\"text_11\">\n     <!-- train -->\n     <defs>\n      <path d=\"M 18.3125 70.21875 \nL 18.3125 54.6875 \nL 36.8125 54.6875 \nL 36.8125 47.703125 \nL 18.3125 47.703125 \nL 18.3125 18.015625 \nQ 18.3125 11.328125 20.140625 9.421875 \nQ 21.96875 7.515625 27.59375 7.515625 \nL 36.8125 7.515625 \nL 36.8125 0 \nL 27.59375 0 \nQ 17.1875 0 13.234375 3.875 \nQ 9.28125 7.765625 9.28125 18.015625 \nL 9.28125 47.703125 \nL 2.6875 47.703125 \nL 2.6875 54.6875 \nL 9.28125 54.6875 \nL 9.28125 70.21875 \nz\n\" id=\"DejaVuSans-116\"/>\n      <path d=\"M 41.109375 46.296875 \nQ 39.59375 47.171875 37.8125 47.578125 \nQ 36.03125 48 33.890625 48 \nQ 26.265625 48 22.1875 43.046875 \nQ 18.109375 38.09375 18.109375 28.8125 \nL 18.109375 0 \nL 9.078125 0 \nL 9.078125 54.6875 \nL 18.109375 54.6875 \nL 18.109375 46.1875 \nQ 20.953125 51.171875 25.484375 53.578125 \nQ 30.03125 56 36.53125 56 \nQ 37.453125 56 38.578125 55.875 \nQ 39.703125 55.765625 41.0625 55.515625 \nz\n\" id=\"DejaVuSans-114\"/>\n      <path d=\"M 34.28125 27.484375 \nQ 23.390625 27.484375 19.1875 25 \nQ 14.984375 22.515625 14.984375 16.5 \nQ 14.984375 11.71875 18.140625 8.90625 \nQ 21.296875 6.109375 26.703125 6.109375 \nQ 34.1875 6.109375 38.703125 11.40625 \nQ 43.21875 16.703125 43.21875 25.484375 \nL 43.21875 27.484375 \nz\nM 52.203125 31.203125 \nL 52.203125 0 \nL 43.21875 0 \nL 43.21875 8.296875 \nQ 40.140625 3.328125 35.546875 0.953125 \nQ 30.953125 -1.421875 24.3125 -1.421875 \nQ 15.921875 -1.421875 10.953125 3.296875 \nQ 6 8.015625 6 15.921875 \nQ 6 25.140625 12.171875 29.828125 \nQ 18.359375 34.515625 30.609375 34.515625 \nL 43.21875 34.515625 \nL 43.21875 35.40625 \nQ 43.21875 41.609375 39.140625 45 \nQ 35.0625 48.390625 27.6875 48.390625 \nQ 23 48.390625 18.546875 47.265625 \nQ 14.109375 46.140625 10.015625 43.890625 \nL 10.015625 52.203125 \nQ 14.9375 54.109375 19.578125 55.046875 \nQ 24.21875 56 28.609375 56 \nQ 40.484375 56 46.34375 49.84375 \nQ 52.203125 43.703125 52.203125 31.203125 \nz\n\" id=\"DejaVuSans-97\"/>\n      <path d=\"M 9.421875 54.6875 \nL 18.40625 54.6875 \nL 18.40625 0 \nL 9.421875 0 \nz\nM 9.421875 75.984375 \nL 18.40625 75.984375 \nL 18.40625 64.59375 \nL 9.421875 64.59375 \nz\n\" id=\"DejaVuSans-105\"/>\n      <path d=\"M 54.890625 33.015625 \nL 54.890625 0 \nL 45.90625 0 \nL 45.90625 32.71875 \nQ 45.90625 40.484375 42.875 44.328125 \nQ 39.84375 48.1875 33.796875 48.1875 \nQ 26.515625 48.1875 22.3125 43.546875 \nQ 18.109375 38.921875 18.109375 30.90625 \nL 18.109375 0 \nL 9.078125 0 \nL 9.078125 54.6875 \nL 18.109375 54.6875 \nL 18.109375 46.1875 \nQ 21.34375 51.125 25.703125 53.5625 \nQ 30.078125 56 35.796875 56 \nQ 45.21875 56 50.046875 50.171875 \nQ 54.890625 44.34375 54.890625 33.015625 \nz\n\" id=\"DejaVuSans-110\"/>\n     </defs>\n     <g transform=\"translate(329.45 27.298437)scale(0.1 -0.1)\">\n      <use xlink:href=\"#DejaVuSans-116\"/>\n      <use x=\"39.208984\" xlink:href=\"#DejaVuSans-114\"/>\n      <use x=\"80.322266\" xlink:href=\"#DejaVuSans-97\"/>\n      <use x=\"141.601562\" xlink:href=\"#DejaVuSans-105\"/>\n      <use x=\"169.384766\" xlink:href=\"#DejaVuSans-110\"/>\n     </g>\n    </g>\n    <g id=\"line2d_15\">\n     <path d=\"M 301.45 38.476562 \nL 321.45 38.476562 \n\" style=\"fill:none;stroke:#ff7f0e;stroke-linecap:square;stroke-width:1.5;\"/>\n    </g>\n    <g id=\"line2d_16\"/>\n    <g id=\"text_12\">\n     <!-- test -->\n     <defs>\n      <path d=\"M 56.203125 29.59375 \nL 56.203125 25.203125 \nL 14.890625 25.203125 \nQ 15.484375 15.921875 20.484375 11.0625 \nQ 25.484375 6.203125 34.421875 6.203125 \nQ 39.59375 6.203125 44.453125 7.46875 \nQ 49.3125 8.734375 54.109375 11.28125 \nL 54.109375 2.78125 \nQ 49.265625 0.734375 44.1875 -0.34375 \nQ 39.109375 -1.421875 33.890625 -1.421875 \nQ 20.796875 -1.421875 13.15625 6.1875 \nQ 5.515625 13.8125 5.515625 26.8125 \nQ 5.515625 40.234375 12.765625 48.109375 \nQ 20.015625 56 32.328125 56 \nQ 43.359375 56 49.78125 48.890625 \nQ 56.203125 41.796875 56.203125 29.59375 \nz\nM 47.21875 32.234375 \nQ 47.125 39.59375 43.09375 43.984375 \nQ 39.0625 48.390625 32.421875 48.390625 \nQ 24.90625 48.390625 20.390625 44.140625 \nQ 15.875 39.890625 15.1875 32.171875 \nz\n\" id=\"DejaVuSans-101\"/>\n      <path d=\"M 44.28125 53.078125 \nL 44.28125 44.578125 \nQ 40.484375 46.53125 36.375 47.5 \nQ 32.28125 48.484375 27.875 48.484375 \nQ 21.1875 48.484375 17.84375 46.4375 \nQ 14.5 44.390625 14.5 40.28125 \nQ 14.5 37.15625 16.890625 35.375 \nQ 19.28125 33.59375 26.515625 31.984375 \nL 29.59375 31.296875 \nQ 39.15625 29.25 43.1875 25.515625 \nQ 47.21875 21.78125 47.21875 15.09375 \nQ 47.21875 7.46875 41.1875 3.015625 \nQ 35.15625 -1.421875 24.609375 -1.421875 \nQ 20.21875 -1.421875 15.453125 -0.5625 \nQ 10.6875 0.296875 5.421875 2 \nL 5.421875 11.28125 \nQ 10.40625 8.6875 15.234375 7.390625 \nQ 20.0625 6.109375 24.8125 6.109375 \nQ 31.15625 6.109375 34.5625 8.28125 \nQ 37.984375 10.453125 37.984375 14.40625 \nQ 37.984375 18.0625 35.515625 20.015625 \nQ 33.0625 21.96875 24.703125 23.78125 \nL 21.578125 24.515625 \nQ 13.234375 26.265625 9.515625 29.90625 \nQ 5.8125 33.546875 5.8125 39.890625 \nQ 5.8125 47.609375 11.28125 51.796875 \nQ 16.75 56 26.8125 56 \nQ 31.78125 56 36.171875 55.265625 \nQ 40.578125 54.546875 44.28125 53.078125 \nz\n\" id=\"DejaVuSans-115\"/>\n     </defs>\n     <g transform=\"translate(329.45 41.976562)scale(0.1 -0.1)\">\n      <use xlink:href=\"#DejaVuSans-116\"/>\n      <use x=\"39.208984\" xlink:href=\"#DejaVuSans-101\"/>\n      <use x=\"100.732422\" xlink:href=\"#DejaVuSans-115\"/>\n      <use x=\"152.832031\" xlink:href=\"#DejaVuSans-116\"/>\n     </g>\n    </g>\n   </g>\n  </g>\n </g>\n <defs>\n  <clipPath id=\"p612a368a48\">\n   <rect height=\"217.44\" width=\"334.8\" x=\"26.925\" y=\"10.7\"/>\n  </clipPath>\n </defs>\n</svg>\n",
      "image/png": "[encoded data removed]"
     },
     "metadata": {
      "needs_background": "light"
     }
    }
   ],
   "source": [
    "plt.plot(history.history['loss'], label='train')\n",
    "plt.plot(history.history['val_loss'], label='test')\n",
    "plt.legend()\n",
    "plt.show()"
   ]
  },
  {
   "cell_type": "markdown",
   "metadata": {},
   "source": [
    "# Evaluation"
   ]
  },
  {
   "cell_type": "code",
   "execution_count": 162,
   "metadata": {},
   "outputs": [],
   "source": [
    "import matplotlib.pyplot as plt\n",
    "# plt.rcParams['figure.figsize'] = [20, 10]"
   ]
  },
  {
   "cell_type": "code",
   "execution_count": 163,
   "metadata": {},
   "outputs": [],
   "source": [
    "def normError(y_true, t_pred):\n",
    "    error = 0\n",
    "    for i in range(np.shape(y_true)[0]):\n",
    "        error+=np.linalg.norm(y_true[i] - y_pred[i])\n",
    "    return error/np.shape(y_true)[0]"
   ]
  },
  {
   "cell_type": "code",
   "execution_count": 259,
   "metadata": {},
   "outputs": [],
   "source": [
    "def evalPlot(y_true, y_pred):\n",
    "    m, n = np.shape(y_true)\n",
    "    X = np.arange(m+n)\n",
    "    plt.figure()\n",
    "    skip = 100\n",
    "    plt.plot(X[:n], y_true[0], color='orange', label='Actual')\n",
    "    plt.plot(X[:n], y_pred[0], color='C0', label='Predicted')\n",
    "    for j in range(n):\n",
    "        plt.scatter(X[j], y_true[0][j], marker='.', color='orange')\n",
    "        plt.scatter(X[j], y_pred[0][j], marker='.', color='C0')\n",
    "    \n",
    "    for i in range(skip, m, skip):\n",
    "        plt.plot(X[i:i+n], y_true[i], color='orange')\n",
    "        plt.plot(X[i:i+n], y_pred[i], color='C0')\n",
    "        for j in range(n):\n",
    "            plt.scatter(X[i+j], y_true[i][j], marker='.', color='orange')\n",
    "            plt.scatter(X[i+j], y_pred[i][j], marker='.', color='C0')\n",
    "    plt.legend()\n",
    "    plt.show()"
   ]
  },
  {
   "cell_type": "markdown",
   "metadata": {},
   "source": [
    "# Train"
   ]
  },
  {
   "cell_type": "code",
   "execution_count": 270,
   "metadata": {},
   "outputs": [],
   "source": [
    "temp0 = X_train[0].reshape((1, 7, 4))\n",
    "temp1 = X_train[1].reshape((1, 7, 4))"
   ]
  },
  {
   "cell_type": "code",
   "execution_count": 271,
   "metadata": {},
   "outputs": [
    {
     "output_type": "execute_result",
     "data": {
      "text/plain": "(array([[ 0.8788384 , -0.08665359,  1.7738523 ]], dtype=float32),\n array([[ 0.8788384 , -0.08665359,  1.7738523 ]], dtype=float32))"
     },
     "metadata": {},
     "execution_count": 271
    }
   ],
   "source": [
    "model.predict(temp0), model.predict(temp1)"
   ]
  },
  {
   "cell_type": "code",
   "execution_count": 167,
   "metadata": {},
   "outputs": [],
   "source": [
    "y_pred = model.predict(X_train)"
   ]
  },
  {
   "cell_type": "markdown",
   "metadata": {},
   "source": [
    "# Test"
   ]
  },
  {
   "cell_type": "code",
   "execution_count": 30,
   "metadata": {},
   "outputs": [],
   "source": [
    "y_pred = model.predict(X_test)"
   ]
  },
  {
   "cell_type": "code",
   "execution_count": null,
   "metadata": {},
   "outputs": [],
   "source": []
  }
 ],
 "metadata": {
  "language_info": {
   "codemirror_mode": {
    "name": "ipython",
    "version": 3
   },
   "file_extension": ".py",
   "mimetype": "text/x-python",
   "name": "python",
   "nbconvert_exporter": "python",
   "pygments_lexer": "ipython3",
   "version": "3.6.7-final"
  },
  "orig_nbformat": 2,
  "kernelspec": {
   "name": "python36764bitmlvirtualenvc13a4d2927d34998a88f4ebd49bc3a3a",
   "display_name": "Python 3.6.7 64-bit ('ML': virtualenv)"
  }
 },
 "nbformat": 4,
 "nbformat_minor": 2
}