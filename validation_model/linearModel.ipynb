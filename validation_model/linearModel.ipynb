{
 "cells": [
  {
   "cell_type": "code",
   "execution_count": 13,
   "metadata": {},
   "outputs": [],
   "source": [
    "import pandas as pd\n",
    "import numpy as np\n",
    "import statsmodels.api as sm\n",
    "from statsmodels.api import OLS\n",
    "\n",
    "from sklearn.model_selection import train_test_split"
   ]
  },
  {
   "cell_type": "code",
   "execution_count": 14,
   "metadata": {},
   "outputs": [],
   "source": [
    "data = pd.read_csv('./BSACTData.csv', index_col='Timestamp')\n",
    "data = data.dropna()"
   ]
  },
  {
   "cell_type": "code",
   "execution_count": 15,
   "metadata": {},
   "outputs": [],
   "source": [
    "data = pd.read_csv('./BSACTDataII.csv', index_col='Timestamp')\n",
    "data = data.loc[:data.index[4999], :]"
   ]
  },
  {
   "cell_type": "code",
   "execution_count": 6,
   "metadata": {},
   "outputs": [],
   "source": [
    "data['block-gen-time'] = 560\n",
    "data['tx-gen-time'] = 26.66"
   ]
  },
  {
   "cell_type": "code",
   "execution_count": 16,
   "metadata": {},
   "outputs": [
    {
     "output_type": "execute_result",
     "data": {
      "text/plain": "                     mempool-size  transactions-per-second  \\\nTimestamp                                                    \n2016-06-14 14:45:00    22589818.0                 2.850000   \n2016-06-14 15:00:00    23395603.0                 2.900000   \n2016-06-14 15:15:00    23095796.0                 3.333333   \n2016-06-14 15:30:00    22710508.0                 3.533333   \n2016-06-14 15:45:00    23625103.0                 3.050000   \n\n                     median-confirmation-time  transaction-fees  \\\nTimestamp                                                         \n2016-06-14 14:45:00                 13.044534        163.686453   \n2016-06-14 15:00:00                 11.540231        163.148091   \n2016-06-14 15:15:00                 12.938979        179.227342   \n2016-06-14 15:30:00                 14.100040        184.766794   \n2016-06-14 15:45:00                 11.947961        214.149393   \n\n                     n-transactions-per-block  \nTimestamp                                      \n2016-06-14 14:45:00               1649.658883  \n2016-06-14 15:00:00               1004.688315  \n2016-06-14 15:15:00               1834.375260  \n2016-06-14 15:30:00               1648.088803  \n2016-06-14 15:45:00               2060.941785  ",
      "text/html": "<div>\n<style scoped>\n    .dataframe tbody tr th:only-of-type {\n        vertical-align: middle;\n    }\n\n    .dataframe tbody tr th {\n        vertical-align: top;\n    }\n\n    .dataframe thead th {\n        text-align: right;\n    }\n</style>\n<table border=\"1\" class=\"dataframe\">\n  <thead>\n    <tr style=\"text-align: right;\">\n      <th></th>\n      <th>mempool-size</th>\n      <th>transactions-per-second</th>\n      <th>median-confirmation-time</th>\n      <th>transaction-fees</th>\n      <th>n-transactions-per-block</th>\n    </tr>\n    <tr>\n      <th>Timestamp</th>\n      <th></th>\n      <th></th>\n      <th></th>\n      <th></th>\n      <th></th>\n    </tr>\n  </thead>\n  <tbody>\n    <tr>\n      <th>2016-06-14 14:45:00</th>\n      <td>22589818.0</td>\n      <td>2.850000</td>\n      <td>13.044534</td>\n      <td>163.686453</td>\n      <td>1649.658883</td>\n    </tr>\n    <tr>\n      <th>2016-06-14 15:00:00</th>\n      <td>23395603.0</td>\n      <td>2.900000</td>\n      <td>11.540231</td>\n      <td>163.148091</td>\n      <td>1004.688315</td>\n    </tr>\n    <tr>\n      <th>2016-06-14 15:15:00</th>\n      <td>23095796.0</td>\n      <td>3.333333</td>\n      <td>12.938979</td>\n      <td>179.227342</td>\n      <td>1834.375260</td>\n    </tr>\n    <tr>\n      <th>2016-06-14 15:30:00</th>\n      <td>22710508.0</td>\n      <td>3.533333</td>\n      <td>14.100040</td>\n      <td>184.766794</td>\n      <td>1648.088803</td>\n    </tr>\n    <tr>\n      <th>2016-06-14 15:45:00</th>\n      <td>23625103.0</td>\n      <td>3.050000</td>\n      <td>11.947961</td>\n      <td>214.149393</td>\n      <td>2060.941785</td>\n    </tr>\n  </tbody>\n</table>\n</div>"
     },
     "metadata": {},
     "execution_count": 16
    }
   ],
   "source": [
    "data.head()"
   ]
  },
  {
   "cell_type": "code",
   "execution_count": 17,
   "metadata": {},
   "outputs": [],
   "source": [
    "X = data.drop(columns=['median-confirmation-time', 'transaction-fees', 'n-transactions-per-block'])\n",
    "Y = data.loc[:, ['median-confirmation-time']]"
   ]
  },
  {
   "cell_type": "code",
   "execution_count": 18,
   "metadata": {},
   "outputs": [],
   "source": [
    "X_train, X_test, Y_train, Y_test = train_test_split(X, Y, test_size=0.20, random_state=42)"
   ]
  },
  {
   "cell_type": "code",
   "execution_count": 19,
   "metadata": {},
   "outputs": [],
   "source": [
    "model = OLS(Y_train, sm.add_constant(X_train))\n",
    "result = model.fit()"
   ]
  },
  {
   "cell_type": "code",
   "execution_count": 20,
   "metadata": {},
   "outputs": [
    {
     "output_type": "execute_result",
     "data": {
      "text/plain": "<class 'statsmodels.iolib.summary.Summary'>\n\"\"\"\n                               OLS Regression Results                               \n====================================================================================\nDep. Variable:     median-confirmation-time   R-squared:                       0.008\nModel:                                  OLS   Adj. R-squared:                  0.008\nMethod:                       Least Squares   F-statistic:                     17.03\nDate:                      Thu, 07 May 2020   Prob (F-statistic):           4.34e-08\nTime:                              02:23:45   Log-Likelihood:                -10929.\nNo. Observations:                      4000   AIC:                         2.186e+04\nDf Residuals:                          3997   BIC:                         2.188e+04\nDf Model:                                 2                                         \nCovariance Type:                  nonrobust                                         \n===========================================================================================\n                              coef    std err          t      P>|t|      [0.025      0.975]\n-------------------------------------------------------------------------------------------\nconst                       7.3452      0.306     24.009      0.000       6.745       7.945\nmempool-size            -2.859e-08   9.46e-09     -3.023      0.003   -4.71e-08      -1e-08\ntransactions-per-second     0.7574      0.133      5.698      0.000       0.497       1.018\n==============================================================================\nOmnibus:                        1.016   Durbin-Watson:                   2.082\nProb(Omnibus):                  0.602   Jarque-Bera (JB):                1.063\nSkew:                          -0.027   Prob(JB):                        0.588\nKurtosis:                       2.942   Cond. No.                     5.08e+07\n==============================================================================\n\nWarnings:\n[1] Standard Errors assume that the covariance matrix of the errors is correctly specified.\n[2] The condition number is large, 5.08e+07. This might indicate that there are\nstrong multicollinearity or other numerical problems.\n\"\"\"",
      "text/html": "<table class=\"simpletable\">\n<caption>OLS Regression Results</caption>\n<tr>\n  <th>Dep. Variable:</th>    <td>median-confirmation-time</td> <th>  R-squared:         </th> <td>   0.008</td> \n</tr>\n<tr>\n  <th>Model:</th>                       <td>OLS</td>           <th>  Adj. R-squared:    </th> <td>   0.008</td> \n</tr>\n<tr>\n  <th>Method:</th>                 <td>Least Squares</td>      <th>  F-statistic:       </th> <td>   17.03</td> \n</tr>\n<tr>\n  <th>Date:</th>                 <td>Thu, 07 May 2020</td>     <th>  Prob (F-statistic):</th> <td>4.34e-08</td> \n</tr>\n<tr>\n  <th>Time:</th>                     <td>02:23:45</td>         <th>  Log-Likelihood:    </th> <td> -10929.</td> \n</tr>\n<tr>\n  <th>No. Observations:</th>          <td>  4000</td>          <th>  AIC:               </th> <td>2.186e+04</td>\n</tr>\n<tr>\n  <th>Df Residuals:</th>              <td>  3997</td>          <th>  BIC:               </th> <td>2.188e+04</td>\n</tr>\n<tr>\n  <th>Df Model:</th>                  <td>     2</td>          <th>                     </th>     <td> </td>    \n</tr>\n<tr>\n  <th>Covariance Type:</th>          <td>nonrobust</td>        <th>                     </th>     <td> </td>    \n</tr>\n</table>\n<table class=\"simpletable\">\n<tr>\n             <td></td>                <th>coef</th>     <th>std err</th>      <th>t</th>      <th>P>|t|</th>  <th>[0.025</th>    <th>0.975]</th>  \n</tr>\n<tr>\n  <th>const</th>                   <td>    7.3452</td> <td>    0.306</td> <td>   24.009</td> <td> 0.000</td> <td>    6.745</td> <td>    7.945</td>\n</tr>\n<tr>\n  <th>mempool-size</th>            <td>-2.859e-08</td> <td> 9.46e-09</td> <td>   -3.023</td> <td> 0.003</td> <td>-4.71e-08</td> <td>   -1e-08</td>\n</tr>\n<tr>\n  <th>transactions-per-second</th> <td>    0.7574</td> <td>    0.133</td> <td>    5.698</td> <td> 0.000</td> <td>    0.497</td> <td>    1.018</td>\n</tr>\n</table>\n<table class=\"simpletable\">\n<tr>\n  <th>Omnibus:</th>       <td> 1.016</td> <th>  Durbin-Watson:     </th> <td>   2.082</td>\n</tr>\n<tr>\n  <th>Prob(Omnibus):</th> <td> 0.602</td> <th>  Jarque-Bera (JB):  </th> <td>   1.063</td>\n</tr>\n<tr>\n  <th>Skew:</th>          <td>-0.027</td> <th>  Prob(JB):          </th> <td>   0.588</td>\n</tr>\n<tr>\n  <th>Kurtosis:</th>      <td> 2.942</td> <th>  Cond. No.          </th> <td>5.08e+07</td>\n</tr>\n</table><br/><br/>Warnings:<br/>[1] Standard Errors assume that the covariance matrix of the errors is correctly specified.<br/>[2] The condition number is large, 5.08e+07. This might indicate that there are<br/>strong multicollinearity or other numerical problems."
     },
     "metadata": {},
     "execution_count": 20
    }
   ],
   "source": [
    "result.summary()"
   ]
  },
  {
   "cell_type": "code",
   "execution_count": null,
   "metadata": {},
   "outputs": [],
   "source": []
  },
  {
   "cell_type": "code",
   "execution_count": null,
   "metadata": {},
   "outputs": [],
   "source": []
  }
 ],
 "metadata": {
  "language_info": {
   "codemirror_mode": {
    "name": "ipython",
    "version": 3
   },
   "file_extension": ".py",
   "mimetype": "text/x-python",
   "name": "python",
   "nbconvert_exporter": "python",
   "pygments_lexer": "ipython3",
   "version": "3.6.7-final"
  },
  "orig_nbformat": 2,
  "kernelspec": {
   "name": "python36764bitmlvirtualenvc13a4d2927d34998a88f4ebd49bc3a3a",
   "display_name": "Python 3.6.7 64-bit ('ML': virtualenv)"
  }
 },
 "nbformat": 4,
 "nbformat_minor": 2
}